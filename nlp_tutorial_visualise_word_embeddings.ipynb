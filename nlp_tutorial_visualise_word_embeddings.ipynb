{
 "cells": [
  {
   "cell_type": "markdown",
   "metadata": {},
   "source": [
    "### WORD2VEC TUTORIAL\n",
    "\n",
    "\n",
    "#### NLP converts words/text/language into a number of some kind. Pre 2013 most nlp models were word count based models. Word2vec changed everything.  \n",
    "#### We will train a word2vec model and then skip to one of the more recent models released by Facebook called Roberta. The models have changed significantly between the release of word2vec(2013) and Roberta(2018). "
   ]
  },
  {
   "cell_type": "code",
   "execution_count": null,
   "metadata": {},
   "outputs": [],
   "source": []
  },
  {
   "cell_type": "markdown",
   "metadata": {},
   "source": [
    "#### Word2vec: is a word association model and is designed to produce similar weights to words that occur together in actual text. The model's weights are referred to as word embeddings. The inference is that the word embeddings or weights from the model will numerically capture or reflect words that are contextually similar.    \n",
    "\n",
    "\n",
    "\n",
    "### Objectives of notebook\n",
    "\n",
    "1. Introduce the word2vec model and focus on the CBOW version of word2vec. \n",
    "2. Illustrate the model with an example to check if the model selects similar words.\n",
    "3. Visualise the model in two dimensional space\n",
    "\n",
    "\n",
    "### Summary of models used in this notebook\n",
    "1. Word2vec(CBOW): https://radimrehurek.com/gensim/models/word2vec.html\n",
    "2. PCA: https://scikit-learn.org/stable/modules/generated/sklearn.decomposition.PCA.html\n",
    "3. TSNE: https://scikit-learn.org/0.15/modules/generated/sklearn.manifold.TSNE.html\n",
    "\n",
    "\n",
    "\n",
    "#### Footnote/references:\n",
    "\n",
    "\n",
    "Research paper Word2vec: https://arxiv.org/abs/1301.3781\n",
    "\n",
    "Link to personal nlp work: https://github.com/bfopengradient/NLP_classify_conduct_risk_related_communications\n",
    "\n",
    "Citation: tsne scatterplot code copied from 'https://www.kaggle.com/pierremegret/gensim-word2vec-tutorial'\n",
    "\n"
   ]
  },
  {
   "cell_type": "markdown",
   "metadata": {},
   "source": [
    "## Install gensim to access the word2vec model\n",
    "\n",
    " "
   ]
  },
  {
   "cell_type": "code",
   "execution_count": 50,
   "metadata": {},
   "outputs": [],
   "source": [
    "#Import the following \n",
    "import pandas as pd \n",
    "import numpy as np\n",
    "from gensim.models import Word2Vec\n",
    "from sklearn import decomposition\n",
    "import matplotlib.pyplot as plt \n",
    "%matplotlib inline\n",
    "import seaborn as sns\n",
    "sns.set_style(\"darkgrid\")\n",
    "from sklearn.decomposition import PCA\n",
    "from sklearn.manifold import TSNE"
   ]
  },
  {
   "cell_type": "markdown",
   "metadata": {},
   "source": [
    "### Read in cleaned csv for word2vec. Cleaning/preprossing was light !"
   ]
  },
  {
   "cell_type": "code",
   "execution_count": 51,
   "metadata": {},
   "outputs": [
    {
     "data": {
      "text/html": [
       "<div>\n",
       "<style scoped>\n",
       "    .dataframe tbody tr th:only-of-type {\n",
       "        vertical-align: middle;\n",
       "    }\n",
       "\n",
       "    .dataframe tbody tr th {\n",
       "        vertical-align: top;\n",
       "    }\n",
       "\n",
       "    .dataframe thead th {\n",
       "        text-align: right;\n",
       "    }\n",
       "</style>\n",
       "<table border=\"1\" class=\"dataframe\">\n",
       "  <thead>\n",
       "    <tr style=\"text-align: right;\">\n",
       "      <th></th>\n",
       "      <th>clean</th>\n",
       "    </tr>\n",
       "  </thead>\n",
       "  <tbody>\n",
       "    <tr>\n",
       "      <th>0</th>\n",
       "      <td>jurong point crazy available bugis n great wor...</td>\n",
       "    </tr>\n",
       "    <tr>\n",
       "      <th>1</th>\n",
       "      <td>ok lar joke wif u oni</td>\n",
       "    </tr>\n",
       "    <tr>\n",
       "      <th>2</th>\n",
       "      <td>free entry wkly comp win fa cup final tkts st ...</td>\n",
       "    </tr>\n",
       "    <tr>\n",
       "      <th>3</th>\n",
       "      <td>u dun early hor u c</td>\n",
       "    </tr>\n",
       "    <tr>\n",
       "      <th>4</th>\n",
       "      <td>nah think go usf live</td>\n",
       "    </tr>\n",
       "  </tbody>\n",
       "</table>\n",
       "</div>"
      ],
      "text/plain": [
       "                                               clean\n",
       "0  jurong point crazy available bugis n great wor...\n",
       "1                              ok lar joke wif u oni\n",
       "2  free entry wkly comp win fa cup final tkts st ...\n",
       "3                                u dun early hor u c\n",
       "4                              nah think go usf live"
      ]
     },
     "execution_count": 51,
     "metadata": {},
     "output_type": "execute_result"
    }
   ],
   "source": [
    "#Assign csv to dataframe\n",
    "df_clean= pd.read_csv('./word2vec.csv').drop(columns=('Unnamed: 0'))  \n",
    "#Check top of dataframe\n",
    "df_clean.head()"
   ]
  },
  {
   "cell_type": "markdown",
   "metadata": {},
   "source": [
    "### Create sentences(list of strings) for  word2vec."
   ]
  },
  {
   "cell_type": "code",
   "execution_count": 53,
   "metadata": {},
   "outputs": [],
   "source": [
    "#Produce a list of strings for each sentence for word2vec\n",
    "sent = [row.split() for row in df_clean['clean']]"
   ]
  },
  {
   "cell_type": "markdown",
   "metadata": {},
   "source": [
    "### Define word2vec model\n",
    "\n",
    "Two choices in terms of how you wish to train the word2vec model.\n",
    "\n",
    "CBOW is trained to predict a single word from a fixed window size of context words, whereas Skip-gram does the opposite, and tries to predict several context words from a single input word.\n",
    "\n"
   ]
  },
  {
   "cell_type": "code",
   "execution_count": 44,
   "metadata": {},
   "outputs": [],
   "source": [
    "#Define model parameters\n",
    "w2v_model = Word2Vec(min_count=20,      #Ignores all words with total frequency lower than this.\n",
    "                     window=2,          #Maximum distance between the current and predicted word within a sentence.\n",
    "                     size=300,          #Dimensionality of the word vectors.\n",
    "                     sg=0,              #Training algorithm: 1 for skip-gram; otherwise CBOW.\n",
    "                     sample=6e-5,       #The threshold for configuring which higher-frequency words are randomly downsampled,useful range is (0, 1e-5)\n",
    "                     alpha=0.03,        #The initial learning rate.\n",
    "                     min_alpha=0.0007,  #Learning rate will linearly drop to `min_alpha` as training progresses.\n",
    "                     negative=20,       #sample size of \"noise words\" for use in negative sampling\n",
    "                     batch_words=5,     #set batch size for frequency of weight updates during training\n",
    "                     iter=5)            #number of epochs to train the model\n"
   ]
  },
  {
   "cell_type": "markdown",
   "metadata": {},
   "source": [
    "### Build model vocabulary "
   ]
  },
  {
   "cell_type": "code",
   "execution_count": 45,
   "metadata": {},
   "outputs": [],
   "source": [
    "#Build model vocabulary \n",
    "w2v_model.build_vocab(sent)\n",
    "\n",
    "#Assign vocabulary to a variable\n",
    "vocabulary= w2v_model.wv.index2word "
   ]
  },
  {
   "cell_type": "markdown",
   "metadata": {},
   "source": [
    "### Train the word2vec model and check output"
   ]
  },
  {
   "cell_type": "code",
   "execution_count": 46,
   "metadata": {},
   "outputs": [
    {
     "data": {
      "text/plain": [
       "[('claim', 0.999919056892395),\n",
       " ('draw', 0.9999160766601562),\n",
       " ('award', 0.9999118447303772),\n",
       " ('guarantee', 0.9999098777770996),\n",
       " ('try', 0.9999080896377563),\n",
       " ('urgent', 0.9999068379402161),\n",
       " ('contact', 0.9999057054519653),\n",
       " ('landline', 0.9999023079872131),\n",
       " ('hrs', 0.999901533126831),\n",
       " ('prize', 0.9999013543128967)]"
      ]
     },
     "execution_count": 46,
     "metadata": {},
     "output_type": "execute_result"
    }
   ],
   "source": [
    "#Train the model on the sentences and test against word similarity\n",
    "\n",
    "#Train model\n",
    "w2v_model.train(sent, total_examples=w2v_model.corpus_count, epochs=30)\n",
    "\n",
    "#Check cosine similarity to a word vector in the vocabulary\n",
    "w2v_model.wv.most_similar(positive=[\"win\"]) "
   ]
  },
  {
   "cell_type": "markdown",
   "metadata": {},
   "source": [
    "### Visualise the word vectors and test model with ten random words/tokens from the vocabulary."
   ]
  },
  {
   "cell_type": "code",
   "execution_count": 47,
   "metadata": {},
   "outputs": [
    {
     "data": {
      "text/plain": [
       "array(['sure', 'problem', 'maybe', 'read', 'good', 'da', 'date', 'urgent',\n",
       "       'bit', 'bus'], dtype='<U9')"
      ]
     },
     "execution_count": 47,
     "metadata": {},
     "output_type": "execute_result"
    }
   ],
   "source": [
    "#Pick ten random words from the vocabulary\n",
    "random_tokens = np.random.choice(list(w2v_model.wv.index2word),10)\n",
    "random_tokens"
   ]
  },
  {
   "cell_type": "markdown",
   "metadata": {},
   "source": [
    "### Two dimensionality algorithms used to reduce dimenions from 300 to just 2. PCA and TSNE."
   ]
  },
  {
   "cell_type": "code",
   "execution_count": 48,
   "metadata": {},
   "outputs": [],
   "source": [
    "def tsnescatterplot(model, word, list_names):\n",
    "    \"\"\" Plot in seaborn the results from the t-SNE dimensionality reduction algorithm of the vectors of a query word,\n",
    "    its list of most similar words, and a list of random words.\n",
    "    \"\"\"\n",
    "    arrays = np.empty((0, 300), dtype='f')\n",
    "    word_labels = [word]\n",
    "    color_list  = ['red']\n",
    "\n",
    "    # Adds the vector of the query word\n",
    "    arrays = np.append(arrays, model.wv.__getitem__([word]), axis=0)\n",
    "    \n",
    "    # Gets list of most similar words\n",
    "    close_words = model.wv.most_similar([word])\n",
    "    \n",
    "    # Adds the vector for each of the closest words to the array\n",
    "    for wrd_score in close_words:\n",
    "        wrd_vector = model.wv.__getitem__([wrd_score[0]])\n",
    "        word_labels.append(wrd_score[0])\n",
    "        color_list.append('blue')\n",
    "        arrays = np.append(arrays, wrd_vector, axis=0)\n",
    "    \n",
    "    #Adds the vector for each of the words from list_names to the array\n",
    "    for wrd in list_names:\n",
    "        wrd_vector = model.wv.__getitem__([wrd])\n",
    "        word_labels.append(wrd)\n",
    "        color_list.append('green')\n",
    "        arrays = np.append(arrays, wrd_vector, axis=0)\n",
    "        \n",
    "    # Reduces the dimensionality from 300 to 20 dimensions with PCA\n",
    "    reduc = PCA(n_components=20).fit_transform(arrays)\n",
    "    \n",
    "    # Finds t-SNE coordinates for 2 dimensions\n",
    "    np.set_printoptions(suppress=True)\n",
    "    \n",
    "    Y = TSNE(n_components=2, random_state=0, perplexity=15).fit_transform(reduc)\n",
    "    \n",
    "    # Sets everything up to plot\n",
    "    df = pd.DataFrame({'x': [x for x in Y[:, 0]],\n",
    "                       'y': [y for y in Y[:, 1]],\n",
    "                       'words': word_labels,\n",
    "                       'color': color_list})\n",
    "    \n",
    "    fig, _ = plt.subplots()\n",
    "    fig.set_size_inches(9, 9)\n",
    "    \n",
    "    # Basic plot\n",
    "    p1 = sns.regplot(data=df,\n",
    "                     x=\"x\",\n",
    "                     y=\"y\",\n",
    "                     fit_reg=False,\n",
    "                     marker=\"o\",\n",
    "                     scatter_kws={'s': 40,\n",
    "                                  'facecolors': df['color']\n",
    "                                 }\n",
    "                    )\n",
    "    \n",
    "    # Adds annotations one by one with a loop\n",
    "    for line in range(0, df.shape[0]):\n",
    "         p1.text(df[\"x\"][line],\n",
    "                 df['y'][line],\n",
    "                 '  ' + df[\"words\"][line].title(),\n",
    "                 horizontalalignment='left',\n",
    "                 verticalalignment='bottom', size='medium',\n",
    "                 color=df['color'][line],\n",
    "                 weight='normal'\n",
    "                ).set_size(15)\n",
    "\n",
    "    \n",
    "    plt.xlim(Y[:, 0].min()-50, Y[:, 0].max()+50)\n",
    "    plt.ylim(Y[:, 1].min()-50, Y[:, 1].max()+50)\n",
    "            \n",
    "    plt.title('t-SNE visualization for {}'.format(word.title()))\n",
    "    \n",
    "    \n",
    "# tsnescatterplot code copied from 'https://www.kaggle.com/pierremegret/gensim-word2vec-tutorial'    "
   ]
  },
  {
   "cell_type": "code",
   "execution_count": 49,
   "metadata": {},
   "outputs": [
    {
     "data": {
      "image/png": "[encoded data removed]",
      "text/plain": [
       "<Figure size 648x648 with 1 Axes>"
      ]
     },
     "metadata": {},
     "output_type": "display_data"
    }
   ],
   "source": [
    "#Call the plot function.. Selected word is  'win'\n",
    "\n",
    "tsnescatterplot(w2v_model, 'win', random_tokens)\n",
    "\n",
    "#The selected word is coloured red\n",
    "#Random words are coloured green\n",
    "#Ten mose similar words according to the model are colooured blue.\n"
   ]
  }
 ],
 "metadata": {
  "kernelspec": {
   "display_name": "Python 3",
   "language": "python",
   "name": "python3"
  },
  "language_info": {
   "codemirror_mode": {
    "name": "ipython",
    "version": 3
   },
   "file_extension": ".py",
   "mimetype": "text/x-python",
   "name": "python",
   "nbconvert_exporter": "python",
   "pygments_lexer": "ipython3",
   "version": "3.6.8"
  }
 },
 "nbformat": 4,
 "nbformat_minor": 2
}
